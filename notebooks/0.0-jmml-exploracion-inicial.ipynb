{
 "cells": [
  {
   "cell_type": "markdown",
   "metadata": {
    "pycharm": {
     "name": "#%% md\n"
    }
   },
   "source": [
    "# Exploración inicial"
   ]
  },
  {
   "cell_type": "code",
   "execution_count": 179,
   "metadata": {
    "pycharm": {
     "name": "#%%\n"
    }
   },
   "outputs": [],
   "source": [
    "from jutils.data import DataUtils\n",
    "from pathlib import Path\n",
    "import pandas as pd\n",
    "from pandas import DataFrame\n",
    "from numpy import nan\n",
    "import numpy as np\n",
    "from sklearn.model_selection import train_test_split\n",
    "from pandas_profiling import ProfileReport"
   ]
  },
  {
   "cell_type": "code",
   "execution_count": 180,
   "metadata": {
    "pycharm": {
     "name": "#%%\n"
    }
   },
   "outputs": [],
   "source": [
    "# Cargando dataset\n",
    "du = DataUtils(Path(r'../data').resolve(), 'kc_house_dataDS.csv')\n",
    "df: DataFrame = pd.read_csv(du.input_file_path, index_col=0, decimal='.')"
   ]
  },
  {
   "cell_type": "markdown",
   "source": [
    "## Identificación de tipos de columnas"
   ],
   "metadata": {
    "collapsed": false,
    "pycharm": {
     "name": "#%% md\n"
    }
   }
  },
  {
   "cell_type": "code",
   "execution_count": 181,
   "outputs": [
    {
     "data": {
      "text/plain": "   index  zipcode           grade sqft_basement view       bathrooms  \\\n0   7286  98199.0             7.0        1250.0  0.0             2.5   \n1  21061  98028.0             7.0            ??  0.0              ??   \n2  17854  98006.0             8.0        1600.0  0.0  -54323456765.0   \n3  17376  98118.0  874456765456.0           0.0  3.0             2.5   \n4   9156       ??             7.0         860.0  0.0              ??   \n\n         bedrooms      sqft_above   sqft_living15      lat  ... yr_renovated  \\\n0  874456765456.0          1320.0          1460.0  47.6417  ...          0.0   \n1             3.0          1490.0          1750.0  47.7607  ...          0.0   \n2  -54323456765.0  -54323456765.0  -54323456765.0  47.5701  ...          0.0   \n3             3.0  874456765456.0          2230.0  47558.0  ...          0.0   \n4              ??              ??          1340.0  47.5563  ...       1970.0   \n\n         yr_built            long  jhygtf sqft_lot     price condition  \\\n0          1961.0  874456765456.0     0.0   5500.0  654000.0       4.0   \n1          2009.0       -122233.0     0.0   4539.0        ??        ??   \n2          1957.0       -122124.0     0.0  23400.0  610000.0       4.0   \n3  874456765456.0       -122265.0     0.0   7200.0  836500.0       3.0   \n4          1911.0       -122393.0  1970.0   6400.0        ??       3.0   \n\n   wertyj sqft_lot15     sqft_living  \n0  876543     6250.0          2570.0  \n1  876543     4667.0          1490.0  \n2  876543    12400.0          3490.0  \n3  876543     7200.0  874456765456.0  \n4  876543     6144.0          2900.0  \n\n[5 rows x 23 columns]",
      "text/html": "<div>\n<style scoped>\n    .dataframe tbody tr th:only-of-type {\n        vertical-align: middle;\n    }\n\n    .dataframe tbody tr th {\n        vertical-align: top;\n    }\n\n    .dataframe thead th {\n        text-align: right;\n    }\n</style>\n<table border=\"1\" class=\"dataframe\">\n  <thead>\n    <tr style=\"text-align: right;\">\n      <th></th>\n      <th>index</th>\n      <th>zipcode</th>\n      <th>grade</th>\n      <th>sqft_basement</th>\n      <th>view</th>\n      <th>bathrooms</th>\n      <th>bedrooms</th>\n      <th>sqft_above</th>\n      <th>sqft_living15</th>\n      <th>lat</th>\n      <th>...</th>\n      <th>yr_renovated</th>\n      <th>yr_built</th>\n      <th>long</th>\n      <th>jhygtf</th>\n      <th>sqft_lot</th>\n      <th>price</th>\n      <th>condition</th>\n      <th>wertyj</th>\n      <th>sqft_lot15</th>\n      <th>sqft_living</th>\n    </tr>\n  </thead>\n  <tbody>\n    <tr>\n      <th>0</th>\n      <td>7286</td>\n      <td>98199.0</td>\n      <td>7.0</td>\n      <td>1250.0</td>\n      <td>0.0</td>\n      <td>2.5</td>\n      <td>874456765456.0</td>\n      <td>1320.0</td>\n      <td>1460.0</td>\n      <td>47.6417</td>\n      <td>...</td>\n      <td>0.0</td>\n      <td>1961.0</td>\n      <td>874456765456.0</td>\n      <td>0.0</td>\n      <td>5500.0</td>\n      <td>654000.0</td>\n      <td>4.0</td>\n      <td>876543</td>\n      <td>6250.0</td>\n      <td>2570.0</td>\n    </tr>\n    <tr>\n      <th>1</th>\n      <td>21061</td>\n      <td>98028.0</td>\n      <td>7.0</td>\n      <td>??</td>\n      <td>0.0</td>\n      <td>??</td>\n      <td>3.0</td>\n      <td>1490.0</td>\n      <td>1750.0</td>\n      <td>47.7607</td>\n      <td>...</td>\n      <td>0.0</td>\n      <td>2009.0</td>\n      <td>-122233.0</td>\n      <td>0.0</td>\n      <td>4539.0</td>\n      <td>??</td>\n      <td>??</td>\n      <td>876543</td>\n      <td>4667.0</td>\n      <td>1490.0</td>\n    </tr>\n    <tr>\n      <th>2</th>\n      <td>17854</td>\n      <td>98006.0</td>\n      <td>8.0</td>\n      <td>1600.0</td>\n      <td>0.0</td>\n      <td>-54323456765.0</td>\n      <td>-54323456765.0</td>\n      <td>-54323456765.0</td>\n      <td>-54323456765.0</td>\n      <td>47.5701</td>\n      <td>...</td>\n      <td>0.0</td>\n      <td>1957.0</td>\n      <td>-122124.0</td>\n      <td>0.0</td>\n      <td>23400.0</td>\n      <td>610000.0</td>\n      <td>4.0</td>\n      <td>876543</td>\n      <td>12400.0</td>\n      <td>3490.0</td>\n    </tr>\n    <tr>\n      <th>3</th>\n      <td>17376</td>\n      <td>98118.0</td>\n      <td>874456765456.0</td>\n      <td>0.0</td>\n      <td>3.0</td>\n      <td>2.5</td>\n      <td>3.0</td>\n      <td>874456765456.0</td>\n      <td>2230.0</td>\n      <td>47558.0</td>\n      <td>...</td>\n      <td>0.0</td>\n      <td>874456765456.0</td>\n      <td>-122265.0</td>\n      <td>0.0</td>\n      <td>7200.0</td>\n      <td>836500.0</td>\n      <td>3.0</td>\n      <td>876543</td>\n      <td>7200.0</td>\n      <td>874456765456.0</td>\n    </tr>\n    <tr>\n      <th>4</th>\n      <td>9156</td>\n      <td>??</td>\n      <td>7.0</td>\n      <td>860.0</td>\n      <td>0.0</td>\n      <td>??</td>\n      <td>??</td>\n      <td>??</td>\n      <td>1340.0</td>\n      <td>47.5563</td>\n      <td>...</td>\n      <td>1970.0</td>\n      <td>1911.0</td>\n      <td>-122393.0</td>\n      <td>1970.0</td>\n      <td>6400.0</td>\n      <td>??</td>\n      <td>3.0</td>\n      <td>876543</td>\n      <td>6144.0</td>\n      <td>2900.0</td>\n    </tr>\n  </tbody>\n</table>\n<p>5 rows × 23 columns</p>\n</div>"
     },
     "execution_count": 181,
     "metadata": {},
     "output_type": "execute_result"
    }
   ],
   "source": [
    "df.head()"
   ],
   "metadata": {
    "collapsed": false,
    "pycharm": {
     "name": "#%%\n"
    }
   }
  },
  {
   "cell_type": "code",
   "execution_count": 182,
   "outputs": [
    {
     "name": "stdout",
     "output_type": "stream",
     "text": [
      "<class 'pandas.core.frame.DataFrame'>\n",
      "Int64Index: 131994 entries, 0 to 131993\n",
      "Data columns (total 23 columns):\n",
      " #   Column         Non-Null Count   Dtype \n",
      "---  ------         --------------   ----- \n",
      " 0   index          131994 non-null  int64 \n",
      " 1   zipcode        127587 non-null  object\n",
      " 2   grade          127517 non-null  object\n",
      " 3   sqft_basement  127488 non-null  object\n",
      " 4   view           127654 non-null  object\n",
      " 5   bathrooms      127489 non-null  object\n",
      " 6   bedrooms       127529 non-null  object\n",
      " 7   sqft_above     127512 non-null  object\n",
      " 8   sqft_living15  127614 non-null  object\n",
      " 9   lat            127531 non-null  object\n",
      " 10  waterfront     127530 non-null  object\n",
      " 11  floors         127591 non-null  object\n",
      " 12  date           127544 non-null  object\n",
      " 13  yr_renovated   127528 non-null  object\n",
      " 14  yr_built       127512 non-null  object\n",
      " 15  long           127560 non-null  object\n",
      " 16  jhygtf         127528 non-null  object\n",
      " 17  sqft_lot       127563 non-null  object\n",
      " 18  price          127461 non-null  object\n",
      " 19  condition      127540 non-null  object\n",
      " 20  wertyj         131994 non-null  int64 \n",
      " 21  sqft_lot15     127539 non-null  object\n",
      " 22  sqft_living    127568 non-null  object\n",
      "dtypes: int64(2), object(21)\n",
      "memory usage: 24.2+ MB\n"
     ]
    }
   ],
   "source": [
    "df.info()"
   ],
   "metadata": {
    "collapsed": false,
    "pycharm": {
     "name": "#%%\n"
    }
   }
  },
  {
   "cell_type": "markdown",
   "source": [
    "Se identifica que el dataset contiene 23 columnas, 22 de las cuales deberían contener únicamente números, y se tiene 1 columna tipo date.\n",
    "\n",
    "Como limpieza inicial se convertirán en nulos todos los valores de las columnas que deben tener únicamente números, y la columna date se almacenará como texto para un procesamiento posterior."
   ],
   "metadata": {
    "collapsed": false,
    "pycharm": {
     "name": "#%% md\n"
    }
   }
  },
  {
   "cell_type": "code",
   "execution_count": 183,
   "outputs": [],
   "source": [
    "columnas_numericas = [column for column in df.columns if column != 'date' ]"
   ],
   "metadata": {
    "collapsed": false,
    "pycharm": {
     "name": "#%%\n"
    }
   }
  },
  {
   "cell_type": "code",
   "execution_count": 184,
   "outputs": [
    {
     "name": "stdout",
     "output_type": "stream",
     "text": [
      "La columna zipcode tiene 4407 valores no numéricos, 3.34%, se reemplazarán por nan.\n",
      "La columna grade tiene 4477 valores no numéricos, 3.39%, se reemplazarán por nan.\n",
      "La columna sqft_basement tiene 4506 valores no numéricos, 3.41%, se reemplazarán por nan.\n",
      "La columna view tiene 4340 valores no numéricos, 3.29%, se reemplazarán por nan.\n",
      "La columna bathrooms tiene 4505 valores no numéricos, 3.41%, se reemplazarán por nan.\n",
      "La columna bedrooms tiene 4465 valores no numéricos, 3.38%, se reemplazarán por nan.\n",
      "La columna sqft_above tiene 4482 valores no numéricos, 3.40%, se reemplazarán por nan.\n",
      "La columna sqft_living15 tiene 4380 valores no numéricos, 3.32%, se reemplazarán por nan.\n",
      "La columna lat tiene 4463 valores no numéricos, 3.38%, se reemplazarán por nan.\n",
      "La columna waterfront tiene 4464 valores no numéricos, 3.38%, se reemplazarán por nan.\n",
      "La columna floors tiene 4403 valores no numéricos, 3.34%, se reemplazarán por nan.\n",
      "La columna yr_renovated tiene 4466 valores no numéricos, 3.38%, se reemplazarán por nan.\n",
      "La columna yr_built tiene 4482 valores no numéricos, 3.40%, se reemplazarán por nan.\n",
      "La columna long tiene 4434 valores no numéricos, 3.36%, se reemplazarán por nan.\n",
      "La columna jhygtf tiene 4466 valores no numéricos, 3.38%, se reemplazarán por nan.\n",
      "La columna sqft_lot tiene 4431 valores no numéricos, 3.36%, se reemplazarán por nan.\n",
      "La columna price tiene 4533 valores no numéricos, 3.43%, se reemplazarán por nan.\n",
      "La columna condition tiene 4454 valores no numéricos, 3.37%, se reemplazarán por nan.\n",
      "La columna sqft_lot15 tiene 4455 valores no numéricos, 3.38%, se reemplazarán por nan.\n",
      "La columna sqft_living tiene 4426 valores no numéricos, 3.35%, se reemplazarán por nan.\n"
     ]
    }
   ],
   "source": [
    "total_filas = df.shape[0]\n",
    "for columna_numerica in columnas_numericas:\n",
    "    if not pd.api.types.is_numeric_dtype(df[columna_numerica]):\n",
    "        son_numericos = df[columna_numerica].apply(pd.api.types.is_number)\n",
    "        cant = son_numericos.sum()\n",
    "        print(f'La columna {columna_numerica} tiene {cant} valores no numéricos, {cant/total_filas:.2%}, se reemplazarán por nan.')\n",
    "        df[columna_numerica] = pd.to_numeric(df[columna_numerica] ,errors='coerce')"
   ],
   "metadata": {
    "collapsed": false,
    "pycharm": {
     "name": "#%%\n"
    }
   }
  },
  {
   "cell_type": "code",
   "execution_count": 185,
   "outputs": [
    {
     "name": "stdout",
     "output_type": "stream",
     "text": [
      "<class 'pandas.core.frame.DataFrame'>\n",
      "Int64Index: 131994 entries, 0 to 131993\n",
      "Data columns (total 23 columns):\n",
      " #   Column         Non-Null Count   Dtype  \n",
      "---  ------         --------------   -----  \n",
      " 0   index          131994 non-null  int64  \n",
      " 1   zipcode        118787 non-null  float64\n",
      " 2   grade          118717 non-null  float64\n",
      " 3   sqft_basement  118688 non-null  float64\n",
      " 4   view           118854 non-null  float64\n",
      " 5   bathrooms      118689 non-null  float64\n",
      " 6   bedrooms       118729 non-null  float64\n",
      " 7   sqft_above     118712 non-null  float64\n",
      " 8   sqft_living15  118814 non-null  float64\n",
      " 9   lat            118731 non-null  float64\n",
      " 10  waterfront     118730 non-null  float64\n",
      " 11  floors         118791 non-null  float64\n",
      " 12  date           127544 non-null  object \n",
      " 13  yr_renovated   118728 non-null  float64\n",
      " 14  yr_built       118712 non-null  float64\n",
      " 15  long           118760 non-null  float64\n",
      " 16  jhygtf         118728 non-null  float64\n",
      " 17  sqft_lot       118763 non-null  float64\n",
      " 18  price          118661 non-null  float64\n",
      " 19  condition      118740 non-null  float64\n",
      " 20  wertyj         131994 non-null  int64  \n",
      " 21  sqft_lot15     118739 non-null  float64\n",
      " 22  sqft_living    118768 non-null  float64\n",
      "dtypes: float64(20), int64(2), object(1)\n",
      "memory usage: 24.2+ MB\n"
     ]
    }
   ],
   "source": [
    "df.info()"
   ],
   "metadata": {
    "collapsed": false,
    "pycharm": {
     "name": "#%%\n"
    }
   }
  },
  {
   "cell_type": "code",
   "execution_count": 193,
   "outputs": [],
   "source": [
    "# Almacenar dataframe como parquet para conservar los tipos\n",
    "df.to_parquet(du.interim_path.joinpath(du.input_file_name).with_suffix('.parquet'))"
   ],
   "metadata": {
    "collapsed": false,
    "pycharm": {
     "name": "#%%\n"
    }
   }
  }
 ],
 "metadata": {
  "kernelspec": {
   "display_name": "Python 3.9.10 ('venv': venv)",
   "language": "python",
   "name": "python3"
  },
  "language_info": {
   "name": "python",
   "version": "3.9.10"
  },
  "orig_nbformat": 4,
  "vscode": {
   "interpreter": {
    "hash": "71bec192d5ff8433e9fd1ad3688f5038aeb9d962707c1787b1f9aa15c218d636"
   }
  }
 },
 "nbformat": 4,
 "nbformat_minor": 2
}