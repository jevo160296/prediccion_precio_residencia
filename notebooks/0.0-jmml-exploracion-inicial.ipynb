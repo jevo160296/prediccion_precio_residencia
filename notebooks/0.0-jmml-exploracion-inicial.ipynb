{
 "cells": [
  {
   "cell_type": "markdown",
   "metadata": {
    "pycharm": {
     "name": "#%% md\n"
    }
   },
   "source": [
    "# Exploración inicial"
   ]
  },
  {
   "cell_type": "code",
   "execution_count": 86,
   "metadata": {
    "pycharm": {
     "name": "#%%\n"
    }
   },
   "outputs": [],
   "source": [
    "from jutils.data import DataUtils\n",
    "from pathlib import Path\n",
    "import pandas as pd\n",
    "from pandas import DataFrame\n",
    "from sklearn.model_selection import train_test_split"
   ]
  },
  {
   "cell_type": "code",
   "execution_count": 82,
   "metadata": {
    "pycharm": {
     "name": "#%%\n"
    }
   },
   "outputs": [],
   "source": [
    "# Cargando dataset\n",
    "du = DataUtils(Path(r'../data').resolve(), 'kc_house_dataDS.csv')\n",
    "df: DataFrame = pd.read_csv(du.input_file_path, index_col=0)"
   ]
  },
  {
   "cell_type": "markdown",
   "source": [
    "## Identificación de columnas"
   ],
   "metadata": {
    "collapsed": false,
    "pycharm": {
     "name": "#%% md\n"
    }
   }
  },
  {
   "cell_type": "code",
   "execution_count": 83,
   "outputs": [
    {
     "name": "stdout",
     "output_type": "stream",
     "text": [
      "<class 'pandas.core.frame.DataFrame'>\n",
      "Int64Index: 131994 entries, 0 to 131993\n",
      "Data columns (total 23 columns):\n",
      " #   Column         Non-Null Count   Dtype \n",
      "---  ------         --------------   ----- \n",
      " 0   index          131994 non-null  int64 \n",
      " 1   zipcode        127587 non-null  object\n",
      " 2   grade          127517 non-null  object\n",
      " 3   sqft_basement  127488 non-null  object\n",
      " 4   view           127654 non-null  object\n",
      " 5   bathrooms      127489 non-null  object\n",
      " 6   bedrooms       127529 non-null  object\n",
      " 7   sqft_above     127512 non-null  object\n",
      " 8   sqft_living15  127614 non-null  object\n",
      " 9   lat            127531 non-null  object\n",
      " 10  waterfront     127530 non-null  object\n",
      " 11  floors         127591 non-null  object\n",
      " 12  date           127544 non-null  object\n",
      " 13  yr_renovated   127528 non-null  object\n",
      " 14  yr_built       127512 non-null  object\n",
      " 15  long           127560 non-null  object\n",
      " 16  jhygtf         127528 non-null  object\n",
      " 17  sqft_lot       127563 non-null  object\n",
      " 18  price          127461 non-null  object\n",
      " 19  condition      127540 non-null  object\n",
      " 20  wertyj         131994 non-null  int64 \n",
      " 21  sqft_lot15     127539 non-null  object\n",
      " 22  sqft_living    127568 non-null  object\n",
      "dtypes: int64(2), object(21)\n",
      "memory usage: 24.2+ MB\n"
     ]
    }
   ],
   "source": [
    "df.info()"
   ],
   "metadata": {
    "collapsed": false,
    "pycharm": {
     "name": "#%%\n"
    }
   }
  },
  {
   "cell_type": "code",
   "execution_count": 29,
   "outputs": [],
   "source": [],
   "metadata": {
    "collapsed": false,
    "pycharm": {
     "name": "#%%\n"
    }
   }
  }
 ],
 "metadata": {
  "kernelspec": {
   "display_name": "Python 3.9.10 ('venv': venv)",
   "language": "python",
   "name": "python3"
  },
  "language_info": {
   "name": "python",
   "version": "3.9.10"
  },
  "orig_nbformat": 4,
  "vscode": {
   "interpreter": {
    "hash": "71bec192d5ff8433e9fd1ad3688f5038aeb9d962707c1787b1f9aa15c218d636"
   }
  }
 },
 "nbformat": 4,
 "nbformat_minor": 2
}