{
 "cells": [
  {
   "cell_type": "markdown",
   "metadata": {
    "pycharm": {
     "name": "#%% md\n"
    }
   },
   "source": [
    "# Exploración inicial"
   ]
  },
  {
   "cell_type": "code",
   "execution_count": null,
   "metadata": {
    "pycharm": {
     "name": "#%%\n"
    }
   },
   "outputs": [],
   "source": [
    "from src.jutils.data import DataUtils\n",
    "from pathlib import Path\n",
    "import pandas as pd\n",
    "from pandas import DataFrame\n",
    "from numpy import nan\n",
    "import numpy as np\n",
    "from sklearn.model_selection import train_test_split\n",
    "from pandas_profiling import ProfileReport"
   ]
  },
  {
   "cell_type": "code",
   "execution_count": null,
   "metadata": {
    "pycharm": {
     "name": "#%%\n"
    }
   },
   "outputs": [],
   "source": [
    "# Cargando dataset\n",
    "du = DataUtils(\n",
    "    Path(r'C:\\Users\\jevo1\\Documents\\Python Scripts\\trabajo_ciencia_de_datos_1\\data').resolve(), \n",
    "    'kc_house_dataDS.csv',\n",
    "    'price'\n",
    ")\n",
    "df: DataFrame = pd.read_csv(du.input_file_path, index_col=0, decimal='.')"
   ]
  },
  {
   "cell_type": "markdown",
   "metadata": {
    "pycharm": {
     "name": "#%% md\n"
    }
   },
   "source": [
    "## Identificación de tipos de columnas"
   ]
  },
  {
   "cell_type": "code",
   "execution_count": null,
   "metadata": {
    "pycharm": {
     "name": "#%%\n"
    }
   },
   "outputs": [],
   "source": [
    "df.head()"
   ]
  },
  {
   "cell_type": "code",
   "execution_count": null,
   "metadata": {
    "pycharm": {
     "name": "#%%\n"
    }
   },
   "outputs": [],
   "source": [
    "df.info()"
   ]
  },
  {
   "cell_type": "markdown",
   "metadata": {
    "pycharm": {
     "name": "#%% md\n"
    }
   },
   "source": [
    "Se identifica que el dataset contiene 23 columnas, 22 de las cuales deberían contener únicamente números, y se tiene 1 columna tipo date.\n",
    "\n",
    "Como limpieza inicial se convertirán en nulos todos los valores de las columnas que deben tener únicamente números, y la columna date se almacenará como texto para un procesamiento posterior."
   ]
  },
  {
   "cell_type": "code",
   "execution_count": null,
   "metadata": {
    "pycharm": {
     "name": "#%%\n"
    }
   },
   "outputs": [],
   "source": [
    "columnas_numericas = [column for column in df.columns if column != 'date' ]"
   ]
  },
  {
   "cell_type": "code",
   "execution_count": null,
   "metadata": {
    "pycharm": {
     "name": "#%%\n"
    }
   },
   "outputs": [],
   "source": [
    "total_filas = df.shape[0]\n",
    "for columna_numerica in columnas_numericas:\n",
    "    if not pd.api.types.is_numeric_dtype(df[columna_numerica]):\n",
    "        son_numericos = df[columna_numerica].apply(pd.api.types.is_number)\n",
    "        cant = son_numericos.sum()\n",
    "        print(f'La columna {columna_numerica} tiene {cant} valores no numéricos, {cant/total_filas:.2%}, se reemplazarán por nan.')\n",
    "        df[columna_numerica] = pd.to_numeric(df[columna_numerica] ,errors='coerce')"
   ]
  },
  {
   "cell_type": "code",
   "execution_count": null,
   "metadata": {
    "pycharm": {
     "name": "#%%\n"
    }
   },
   "outputs": [],
   "source": [
    "df.info()"
   ]
  },
  {
   "cell_type": "code",
   "execution_count": null,
   "metadata": {
    "pycharm": {
     "name": "#%%\n"
    }
   },
   "outputs": [],
   "source": [
    "# Almacenar dataframe como parquet para conservar los tipos\n",
    "df.to_parquet(du.interim_path.joinpath(du.input_file_name).with_suffix('.parquet'))"
   ]
  }
 ],
 "metadata": {
  "kernelspec": {
   "display_name": "Python 3 (ipykernel)",
   "language": "python",
   "name": "python3"
  },
  "language_info": {
   "codemirror_mode": {
    "name": "ipython",
    "version": 3
   },
   "file_extension": ".py",
   "mimetype": "text/x-python",
   "name": "python",
   "nbconvert_exporter": "python",
   "pygments_lexer": "ipython3",
   "version": "3.9.10"
  },
  "vscode": {
   "interpreter": {
    "hash": "71bec192d5ff8433e9fd1ad3688f5038aeb9d962707c1787b1f9aa15c218d636"
   }
  }
 },
 "nbformat": 4,
 "nbformat_minor": 2
}
